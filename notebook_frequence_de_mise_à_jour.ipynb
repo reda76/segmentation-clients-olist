{
 "cells": [
  {
   "cell_type": "markdown",
   "id": "0d69178b",
   "metadata": {},
   "source": [
    "# ARI"
   ]
  },
  {
   "cell_type": "markdown",
   "id": "13e795e9",
   "metadata": {},
   "source": [
    "Nous allons dans ce notebook, déterminer la stabilité dans le temps de notre modèle K-means avec les données RFM, qui est la meilleure méthode de clustering que nous avons obtenu sur notre notebook d'essai."
   ]
  },
  {
   "cell_type": "markdown",
   "id": "cc8976e8",
   "metadata": {},
   "source": [
    "L'ARI permet de connaitre la \"durée de vie\", la stabilité dans le temps, d'un modèle avant de le mettre à jour."
   ]
  },
  {
   "cell_type": "code",
   "execution_count": 25,
   "id": "49d7f4df",
   "metadata": {},
   "outputs": [],
   "source": [
    "import pandas as pd\n",
    "import numpy as np\n",
    "import matplotlib.pyplot as plt\n",
    "%matplotlib inline\n",
    "\n",
    "from sklearn.preprocessing import StandardScaler\n",
    "import sklearn.cluster as cluster\n",
    "from sklearn.metrics import adjusted_rand_score"
   ]
  },
  {
   "cell_type": "code",
   "execution_count": 30,
   "id": "c01a50a8",
   "metadata": {},
   "outputs": [],
   "source": [
    "# importation de la dataframe rfm\n",
    "rfm_df_ARI = pd.read_csv(r'data/rfm_df_ARI.csv')"
   ]
  },
  {
   "cell_type": "code",
   "execution_count": 31,
   "id": "4feba7d6",
   "metadata": {},
   "outputs": [
    {
     "data": {
      "text/html": [
       "<div>\n",
       "<style scoped>\n",
       "    .dataframe tbody tr th:only-of-type {\n",
       "        vertical-align: middle;\n",
       "    }\n",
       "\n",
       "    .dataframe tbody tr th {\n",
       "        vertical-align: top;\n",
       "    }\n",
       "\n",
       "    .dataframe thead th {\n",
       "        text-align: right;\n",
       "    }\n",
       "</style>\n",
       "<table border=\"1\" class=\"dataframe\">\n",
       "  <thead>\n",
       "    <tr style=\"text-align: right;\">\n",
       "      <th></th>\n",
       "      <th>monetary</th>\n",
       "      <th>frequency</th>\n",
       "      <th>recency</th>\n",
       "    </tr>\n",
       "  </thead>\n",
       "  <tbody>\n",
       "    <tr>\n",
       "      <th>0</th>\n",
       "      <td>1135.20</td>\n",
       "      <td>1</td>\n",
       "      <td>115</td>\n",
       "    </tr>\n",
       "    <tr>\n",
       "      <th>1</th>\n",
       "      <td>27.19</td>\n",
       "      <td>1</td>\n",
       "      <td>118</td>\n",
       "    </tr>\n",
       "    <tr>\n",
       "      <th>2</th>\n",
       "      <td>689.76</td>\n",
       "      <td>1</td>\n",
       "      <td>541</td>\n",
       "    </tr>\n",
       "    <tr>\n",
       "      <th>3</th>\n",
       "      <td>174.48</td>\n",
       "      <td>1</td>\n",
       "      <td>325</td>\n",
       "    </tr>\n",
       "    <tr>\n",
       "      <th>4</th>\n",
       "      <td>1181.34</td>\n",
       "      <td>1</td>\n",
       "      <td>292</td>\n",
       "    </tr>\n",
       "    <tr>\n",
       "      <th>...</th>\n",
       "      <td>...</td>\n",
       "      <td>...</td>\n",
       "      <td>...</td>\n",
       "    </tr>\n",
       "    <tr>\n",
       "      <th>93390</th>\n",
       "      <td>20674.20</td>\n",
       "      <td>1</td>\n",
       "      <td>451</td>\n",
       "    </tr>\n",
       "    <tr>\n",
       "      <th>93391</th>\n",
       "      <td>84.58</td>\n",
       "      <td>1</td>\n",
       "      <td>266</td>\n",
       "    </tr>\n",
       "    <tr>\n",
       "      <th>93392</th>\n",
       "      <td>112.46</td>\n",
       "      <td>1</td>\n",
       "      <td>572</td>\n",
       "    </tr>\n",
       "    <tr>\n",
       "      <th>93393</th>\n",
       "      <td>668.45</td>\n",
       "      <td>1</td>\n",
       "      <td>123</td>\n",
       "    </tr>\n",
       "    <tr>\n",
       "      <th>93394</th>\n",
       "      <td>286.24</td>\n",
       "      <td>1</td>\n",
       "      <td>488</td>\n",
       "    </tr>\n",
       "  </tbody>\n",
       "</table>\n",
       "<p>93395 rows × 3 columns</p>\n",
       "</div>"
      ],
      "text/plain": [
       "       monetary  frequency  recency\n",
       "0       1135.20          1      115\n",
       "1         27.19          1      118\n",
       "2        689.76          1      541\n",
       "3        174.48          1      325\n",
       "4       1181.34          1      292\n",
       "...         ...        ...      ...\n",
       "93390  20674.20          1      451\n",
       "93391     84.58          1      266\n",
       "93392    112.46          1      572\n",
       "93393    668.45          1      123\n",
       "93394    286.24          1      488\n",
       "\n",
       "[93395 rows x 3 columns]"
      ]
     },
     "execution_count": 31,
     "metadata": {},
     "output_type": "execute_result"
    }
   ],
   "source": [
    "rfm_df_ARI"
   ]
  },
  {
   "cell_type": "code",
   "execution_count": 32,
   "id": "8e5c7468",
   "metadata": {},
   "outputs": [],
   "source": [
    "def kmean_time_stability(dataframe, recency_col, n_clusters, jours, ari=True):\n",
    "    \"\"\"\n",
    "    Affiche la stabilité dans le temps\n",
    "\n",
    "    Entrée :\n",
    "    - dataframe - unscaled dataframe\n",
    "    - recency_col - str, la colonne récence\n",
    "    - n_clusters - int, nombre de clusters\n",
    "    - ari - bool, choix entre ARI ou AMI\n",
    "\n",
    "    Sortie :\n",
    "    - Liste de score\n",
    "    \"\"\"\n",
    "    np.seterr(all='ignore')\n",
    "\n",
    "    date_init = 365\n",
    "    date_slipping = 0\n",
    "    date_lim = date_init\n",
    "    date_max = dataframe[recency_col].max()\n",
    "\n",
    "    score = []\n",
    "\n",
    "    first_year = dataframe[dataframe[recency_col] <= date_init]\n",
    "    first_year_scaled = StandardScaler().fit_transform(first_year)\n",
    "    first_year_clustered = cluster.KMeans(n_clusters=n_clusters)\n",
    "    first_year_clustered.fit(first_year_scaled)\n",
    "\n",
    "    while date_lim < date_max:\n",
    "\n",
    "        add_next_month = dataframe[(dataframe[recency_col] >= date_slipping)\n",
    "                                   & (dataframe[recency_col] <= date_lim)]\n",
    "        add_next_month_scaled = StandardScaler().fit_transform(add_next_month)\n",
    "        y_pred = first_year_clustered.predict(add_next_month_scaled)\n",
    "        y_label = first_year_clustered.fit(add_next_month_scaled).labels_\n",
    "\n",
    "        if ari == True:\n",
    "            score.append(adjusted_rand_score(y_pred, y_label))\n",
    "        else:\n",
    "            score.append(adjusted_mutual_info_score(y_pred, y_label))\n",
    "\n",
    "        date_lim += jours\n",
    "        date_slipping += jours\n",
    "\n",
    "    return score[::-1]"
   ]
  },
  {
   "cell_type": "code",
   "execution_count": 33,
   "id": "12c08ecb",
   "metadata": {},
   "outputs": [
    {
     "data": {
      "image/png": "[encoded data removed]",
      "text/plain": [
       "<Figure size 720x216 with 1 Axes>"
      ]
     },
     "metadata": {
      "needs_background": "light"
     },
     "output_type": "display_data"
    },
    {
     "data": {
      "image/png": "[encoded data removed]",
      "text/plain": [
       "<Figure size 720x216 with 1 Axes>"
      ]
     },
     "metadata": {
      "needs_background": "light"
     },
     "output_type": "display_data"
    },
    {
     "data": {
      "image/png": "[encoded data removed]",
      "text/plain": [
       "<Figure size 720x216 with 1 Axes>"
      ]
     },
     "metadata": {
      "needs_background": "light"
     },
     "output_type": "display_data"
    }
   ],
   "source": [
    "nombre_de_jours = {'Semaines': 7, 'Deux semaines': 15, 'Mois': 30}\n",
    "for keys, values in nombre_de_jours.items():\n",
    "    score_ari = kmean_time_stability(rfm_df_ARI,\n",
    "                                     'recency',\n",
    "                                     5,\n",
    "                                     values,\n",
    "                                     ari=True)\n",
    "    fig, ax = plt.subplots(figsize=(10, 3))\n",
    "    ax.plot(range(len(score_ari)), score_ari)\n",
    "    plt.xlabel(keys)\n",
    "    plt.ylabel(\"Indice de Rand ajusté\")\n",
    "    fig.suptitle(\"Evolution de l'ARI\")"
   ]
  },
  {
   "cell_type": "markdown",
   "id": "95294af6",
   "metadata": {},
   "source": [
    "Nous pouvons constater que les données doivent être mises à jour tous les 8 mois environ."
   ]
  }
 ],
 "metadata": {
  "kernelspec": {
   "display_name": "Python (P5)",
   "language": "python",
   "name": "p5"
  },
  "language_info": {
   "codemirror_mode": {
    "name": "ipython",
    "version": 3
   },
   "file_extension": ".py",
   "mimetype": "text/x-python",
   "name": "python",
   "nbconvert_exporter": "python",
   "pygments_lexer": "ipython3",
   "version": "3.11.3"
  },
  "toc": {
   "base_numbering": 1,
   "nav_menu": {},
   "number_sections": true,
   "sideBar": true,
   "skip_h1_title": false,
   "title_cell": "Table of Contents",
   "title_sidebar": "Contents",
   "toc_cell": false,
   "toc_position": {},
   "toc_section_display": true,
   "toc_window_display": false
  }
 },
 "nbformat": 4,
 "nbformat_minor": 5
}
